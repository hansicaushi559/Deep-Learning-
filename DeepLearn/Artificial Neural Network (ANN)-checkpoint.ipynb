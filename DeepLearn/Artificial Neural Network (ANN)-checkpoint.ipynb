{
 "cells": [
  {
   "cell_type": "code",
   "execution_count": 15,
   "id": "cbf837f0",
   "metadata": {},
   "outputs": [],
   "source": [
    "# Link for the dataset \n",
    "# https://www.kaggle.com/datasets/shubh0799/churn-modelling?resource=download"
   ]
  },
  {
   "cell_type": "code",
   "execution_count": 16,
   "id": "a2a56d68",
   "metadata": {},
   "outputs": [],
   "source": [
    "import pandas as pd\n",
    "import numpy as np\n",
    "import matplotlib.pyplot as plt"
   ]
  },
  {
   "cell_type": "code",
   "execution_count": 17,
   "id": "01b87773",
   "metadata": {},
   "outputs": [],
   "source": [
    "!pip install tensorflow\n"
   ]
  },
  {
   "cell_type": "code",
   "execution_count": 18,
   "id": "2dd4cb17",
   "metadata": {},
   "outputs": [],
   "source": [
    "import tensorflow as tf"
   ]
  },
  {
   "cell_type": "code",
   "execution_count": 19,
   "id": "f4dcf2cc",
   "metadata": {},
   "outputs": [],
   "source": [
    "tf.__version__"
   ]
  },
  {
   "cell_type": "code",
   "execution_count": 20,
   "id": "d35c918b",
   "metadata": {},
   "outputs": [],
   "source": [
    "dataset = pd.read_csv('churn_modelling.csv')"
   ]
  },
  {
   "cell_type": "code",
   "execution_count": 21,
   "id": "c47f687e",
   "metadata": {},
   "outputs": [],
   "source": [
    "dataset.head()"
   ]
  },
  {
   "cell_type": "code",
   "execution_count": 22,
   "id": "62b7d815",
   "metadata": {},
   "outputs": [],
   "source": [
    "dataset.isnull().sum()"
   ]
  },
  {
   "cell_type": "code",
   "execution_count": 23,
   "id": "8294494a",
   "metadata": {},
   "outputs": [],
   "source": [
    "# Dividing the dataset into depedent and indipedent features"
   ]
  },
  {
   "cell_type": "code",
   "execution_count": 24,
   "id": "c10411a9",
   "metadata": {},
   "outputs": [],
   "source": [
    "x = dataset.iloc[:,3:13]"
   ]
  },
  {
   "cell_type": "code",
   "execution_count": 25,
   "id": "0e1ad7d0",
   "metadata": {},
   "outputs": [],
   "source": [
    "x.head()"
   ]
  },
  {
   "cell_type": "code",
   "execution_count": 26,
   "id": "3813720e",
   "metadata": {},
   "outputs": [],
   "source": [
    "y = dataset.iloc[:,13]"
   ]
  },
  {
   "cell_type": "code",
   "execution_count": 27,
   "id": "ec2e2f2d",
   "metadata": {},
   "outputs": [],
   "source": [
    "y.head()"
   ]
  },
  {
   "cell_type": "code",
   "execution_count": 28,
   "id": "5e26f6ca",
   "metadata": {},
   "outputs": [],
   "source": [
    "# Feature Engeneering"
   ]
  },
  {
   "cell_type": "code",
   "execution_count": 29,
   "id": "5d70be24",
   "metadata": {},
   "outputs": [],
   "source": [
    "geography = pd.get_dummies(x['Geography'], drop_first=True).astype(int)"
   ]
  },
  {
   "cell_type": "code",
   "execution_count": 30,
   "id": "0a08e05d",
   "metadata": {},
   "outputs": [],
   "source": [
    "gender = pd.get_dummies(x['Gender'], drop_first=True).astype(int)"
   ]
  },
  {
   "cell_type": "code",
   "execution_count": 31,
   "id": "35636a97",
   "metadata": {},
   "outputs": [],
   "source": [
    "gender"
   ]
  },
  {
   "cell_type": "code",
   "execution_count": 32,
   "id": "177ecd2a",
   "metadata": {},
   "outputs": [],
   "source": [
    "geography"
   ]
  },
  {
   "cell_type": "code",
   "execution_count": 33,
   "id": "5d111393",
   "metadata": {},
   "outputs": [],
   "source": [
    "# Concatination these variables into the dataframe"
   ]
  },
  {
   "cell_type": "code",
   "execution_count": 34,
   "id": "e9fcb08a",
   "metadata": {},
   "outputs": [],
   "source": [
    "x = x.drop(['Geography','Gender'],axis=1)"
   ]
  },
  {
   "cell_type": "code",
   "execution_count": 35,
   "id": "718b3335",
   "metadata": {},
   "outputs": [],
   "source": [
    "x = pd.concat([x,geography,gender],axis=1)"
   ]
  },
  {
   "cell_type": "code",
   "execution_count": 36,
   "id": "1f851361",
   "metadata": {},
   "outputs": [],
   "source": [
    "x\n"
   ]
  },
  {
   "cell_type": "code",
   "execution_count": 37,
   "id": "644d364c",
   "metadata": {},
   "outputs": [],
   "source": [
    "# spliting the dataset into training and test"
   ]
  },
  {
   "cell_type": "code",
   "execution_count": 38,
   "id": "c58d667b",
   "metadata": {},
   "outputs": [],
   "source": [
    "from sklearn.model_selection import train_test_split"
   ]
  },
  {
   "cell_type": "code",
   "execution_count": 39,
   "id": "411600d6",
   "metadata": {},
   "outputs": [],
   "source": [
    "x_train,x_test,y_train,y_test = train_test_split(x,y,test_size=0.2)"
   ]
  },
  {
   "cell_type": "code",
   "execution_count": 40,
   "id": "d599ef6f",
   "metadata": {},
   "outputs": [],
   "source": [
    "x_train"
   ]
  },
  {
   "cell_type": "code",
   "execution_count": 41,
   "id": "e7ecc39e",
   "metadata": {},
   "outputs": [],
   "source": [
    "# Feature scaling "
   ]
  },
  {
   "cell_type": "code",
   "execution_count": 42,
   "id": "5afee794",
   "metadata": {},
   "outputs": [],
   "source": [
    "from sklearn.preprocessing import StandardScaler"
   ]
  },
  {
   "cell_type": "code",
   "execution_count": 43,
   "id": "3f365ed7",
   "metadata": {},
   "outputs": [],
   "source": [
    "sc = StandardScaler()\n",
    "x_train = sc.fit_transform(x_train)\n"
   ]
  },
  {
   "cell_type": "code",
   "execution_count": 44,
   "id": "63289b9c",
   "metadata": {
    "scrolled": true
   },
   "outputs": [],
   "source": [
    "x_train"
   ]
  },
  {
   "cell_type": "code",
   "execution_count": 45,
   "id": "6cf2568f",
   "metadata": {},
   "outputs": [],
   "source": [
    "x_test = sc.transform(x_test)"
   ]
  },
  {
   "cell_type": "code",
   "execution_count": 46,
   "id": "b3097c2c",
   "metadata": {},
   "outputs": [],
   "source": [
    "x_test"
   ]
  },
  {
   "cell_type": "code",
   "execution_count": 47,
   "id": "8122c39a",
   "metadata": {},
   "outputs": [],
   "source": [
    "# Creating the ANN"
   ]
  },
  {
   "cell_type": "code",
   "execution_count": 48,
   "id": "0aa5c368",
   "metadata": {},
   "outputs": [],
   "source": [
    "from tensorflow.keras.models import Sequential\n",
    "from tensorflow.keras.layers import Dense\n",
    "from tensorflow.keras.layers import Activation\n"
   ]
  },
  {
   "cell_type": "code",
   "execution_count": null,
   "id": "a305b0df",
   "metadata": {},
   "outputs": [],
   "source": [
    "model = Sequential()"
   ]
  },
  {
   "cell_type": "code",
   "execution_count": null,
   "id": "68c5f154",
   "metadata": {},
   "outputs": [],
   "source": [
    "# Adding the input layer "
   ]
  },
  {
   "cell_type": "code",
   "execution_count": null,
   "id": "2509d68e",
   "metadata": {},
   "outputs": [],
   "source": [
    "x_train.shape"
   ]
  },
  {
   "cell_type": "code",
   "execution_count": null,
   "id": "6a849646",
   "metadata": {},
   "outputs": [],
   "source": [
    "# we should create 11 neurons because we have 11 features"
   ]
  },
  {
   "cell_type": "code",
   "execution_count": null,
   "id": "42394441",
   "metadata": {},
   "outputs": [],
   "source": [
    "model.add(Dense(units=11,activation='relu'))"
   ]
  },
  {
   "cell_type": "code",
   "execution_count": null,
   "id": "ac59eae2",
   "metadata": {},
   "outputs": [],
   "source": [
    "# Adding the first hidden layer"
   ]
  },
  {
   "cell_type": "code",
   "execution_count": null,
   "id": "ff510962",
   "metadata": {},
   "outputs": [],
   "source": [
    "# for finding the right number of units and the number of hidden layers we could try classifier and grid search cv"
   ]
  },
  {
   "cell_type": "code",
   "execution_count": null,
   "id": "436d52bb",
   "metadata": {},
   "outputs": [],
   "source": [
    "model.add(Dense(units=7,activation='relu'))"
   ]
  },
  {
   "cell_type": "code",
   "execution_count": null,
   "id": "e8ad8346",
   "metadata": {},
   "outputs": [],
   "source": [
    "# Adding the second hidden layer"
   ]
  },
  {
   "cell_type": "code",
   "execution_count": null,
   "id": "0825f084",
   "metadata": {},
   "outputs": [],
   "source": [
    "model.add(Dense(units=6,activation='relu'))"
   ]
  },
  {
   "cell_type": "code",
   "execution_count": null,
   "id": "758fb860",
   "metadata": {},
   "outputs": [],
   "source": [
    "# Adding the output layer"
   ]
  },
  {
   "cell_type": "code",
   "execution_count": null,
   "id": "9b9dc01b",
   "metadata": {},
   "outputs": [],
   "source": [
    "model.add(Dense(units=1,activation='sigmoid'))"
   ]
  },
  {
   "cell_type": "code",
   "execution_count": null,
   "id": "abaa786a",
   "metadata": {},
   "outputs": [],
   "source": [
    "# Lets compile the model"
   ]
  },
  {
   "cell_type": "code",
   "execution_count": null,
   "id": "5262e41f",
   "metadata": {},
   "outputs": [],
   "source": [
    "model.compile(optimizer='adam',loss='binary_crossentropy',metrics=['accuracy'])"
   ]
  },
  {
   "cell_type": "code",
   "execution_count": null,
   "id": "944e414d",
   "metadata": {},
   "outputs": [],
   "source": [
    "# Train the model"
   ]
  },
  {
   "cell_type": "code",
   "execution_count": null,
   "id": "2774a125",
   "metadata": {},
   "outputs": [],
   "source": [
    "model_history = model.fit(x_train,y_train,validation_split=0.33,batch_size=10,epochs=15)"
   ]
  },
  {
   "cell_type": "code",
   "execution_count": null,
   "id": "ad92bb91",
   "metadata": {},
   "outputs": [],
   "source": [
    "# Model accuracy 87%"
   ]
  },
  {
   "cell_type": "code",
   "execution_count": null,
   "id": "c25b75c0",
   "metadata": {},
   "outputs": [],
   "source": [
    "model_history.history.keys()"
   ]
  },
  {
   "cell_type": "code",
   "execution_count": null,
   "id": "2c7c09d2",
   "metadata": {},
   "outputs": [],
   "source": [
    "# summerizing the history for accuracy"
   ]
  },
  {
   "cell_type": "code",
   "execution_count": null,
   "id": "83b7040c",
   "metadata": {},
   "outputs": [],
   "source": [
    "plt.plot(model_history.history['accuracy'])\n",
    "plt.plot(model_history.history['val_accuracy'])\n",
    "plt.title('model accuracy')\n",
    "plt.ylabel('model accuracy')\n",
    "plt.xlabel('nr of epochs')\n",
    "plt.legend(['train','test'],loc='upper left')\n",
    "plt.show()"
   ]
  },
  {
   "cell_type": "code",
   "execution_count": null,
   "id": "11953520",
   "metadata": {},
   "outputs": [],
   "source": [
    "# Summerizing history for loss"
   ]
  },
  {
   "cell_type": "code",
   "execution_count": null,
   "id": "9d325f71",
   "metadata": {},
   "outputs": [],
   "source": [
    "plt.plot(model_history.history['loss'])\n",
    "plt.plot(model_history.history['val_loss'])\n",
    "plt.title('model loss')\n",
    "plt.ylabel('loss')\n",
    "plt.xlabel('nr of epochs')\n",
    "plt.legend(['train','test'],loc='upper left')\n",
    "plt.show()"
   ]
  },
  {
   "cell_type": "code",
   "execution_count": null,
   "id": "04bbcaa4",
   "metadata": {},
   "outputs": [],
   "source": [
    "# to find the optimal number of epochs we can try early stoping"
   ]
  },
  {
   "cell_type": "code",
   "execution_count": null,
   "id": "8f3446b4",
   "metadata": {},
   "outputs": [],
   "source": [
    "# Making the predictions and evaluating the model"
   ]
  },
  {
   "cell_type": "code",
   "execution_count": null,
   "id": "53a9e063",
   "metadata": {},
   "outputs": [],
   "source": [
    "y_pred = model.predict(x_test)\n",
    "y_pred = (y_pred >=0.5)"
   ]
  },
  {
   "cell_type": "code",
   "execution_count": null,
   "id": "6fd2a94f",
   "metadata": {},
   "outputs": [],
   "source": [
    "# Makeing the confusion matrix"
   ]
  },
  {
   "cell_type": "code",
   "execution_count": null,
   "id": "556ada51",
   "metadata": {},
   "outputs": [],
   "source": [
    "from sklearn.metrics import confusion_matrix"
   ]
  },
  {
   "cell_type": "code",
   "execution_count": null,
   "id": "a6528a8b",
   "metadata": {},
   "outputs": [],
   "source": [
    "cm = confusion_matrix(y_test,y_pred)"
   ]
  },
  {
   "cell_type": "code",
   "execution_count": null,
   "id": "50b80018",
   "metadata": {},
   "outputs": [],
   "source": [
    "cm"
   ]
  },
  {
   "cell_type": "code",
   "execution_count": null,
   "id": "466b86de",
   "metadata": {},
   "outputs": [],
   "source": [
    "# Showing the acuracy of the model"
   ]
  },
  {
   "cell_type": "code",
   "execution_count": null,
   "id": "f0039bc9",
   "metadata": {},
   "outputs": [],
   "source": [
    "from sklearn.metrics import accuracy_score\n",
    "score = accuracy_score(y_pred,y_test)"
   ]
  },
  {
   "cell_type": "code",
   "execution_count": null,
   "id": "c2bdef0b",
   "metadata": {},
   "outputs": [],
   "source": [
    "score"
   ]
  },
  {
   "cell_type": "code",
   "execution_count": null,
   "id": "5a118510",
   "metadata": {},
   "outputs": [],
   "source": []
  }
 ],
 "metadata": {
  "kernelspec": {
   "display_name": "Python 3 (ipykernel)",
   "language": "python",
   "name": "python3"
  },
  "language_info": {
   "codemirror_mode": {
    "name": "ipython",
    "version": 3
   },
   "file_extension": ".py",
   "mimetype": "text/x-python",
   "name": "python",
   "nbconvert_exporter": "python",
   "pygments_lexer": "ipython3",
   "version": "3.11.5"
  }
 },
 "nbformat": 4,
 "nbformat_minor": 5
}
